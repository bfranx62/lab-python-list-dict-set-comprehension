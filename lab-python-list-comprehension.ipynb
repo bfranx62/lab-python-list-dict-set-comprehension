{
 "cells": [
  {
   "cell_type": "markdown",
   "id": "25d7736c-ba17-4aff-b6bb-66eba20fbf4e",
   "metadata": {},
   "source": [
    "# Lab | List, Dict and Set Comprehension"
   ]
  },
  {
   "cell_type": "markdown",
   "id": "7dd3cbde-675a-4b81-92c3-f728846dbe06",
   "metadata": {},
   "source": [
    "## Exercise: Managing Customer Orders Optimized with Comprehension"
   ]
  },
  {
   "cell_type": "markdown",
   "id": "5d500160-2fb7-4777-b5e4-09d45ebaf328",
   "metadata": {},
   "source": [
    "In the previous exercise, you developed a program to manage customer orders and inventory. Now, let's take it a step further and incorporate comprehension into your code.\n",
    "\n",
    "Follow the steps below to complete the exercise:\n",
    "\n",
    "1. Review your code from the previous exercise and identify areas where you can apply comprehension to simplify and streamline your code. \n",
    "\n",
    "    - *Hint: Apply it to initialize inventory, updating the inventory and printing the updated inventory.*\n",
    "    \n",
    "    - For example, in initializing the inventory, we could have:\n",
    "    \n",
    "        ```python\n",
    "        def initialize_inventory(products):\n",
    "            inventory = {product: int(input(f\"Enter the quantity of {product}s available: \")) for product in products}\n",
    "            return inventory\n",
    "\n",
    "        ```\n",
    "<br>\n",
    "    \n",
    "    \n",
    "2. Modify the function get_customer_orders so it prompts the user to enter the number of customer orders and gathers the product names using a loop and user input. Use comprehension.\n",
    "\n",
    "3. Add a new function to calculate the total price of the customer order. For each product in customer_orders, prompt the user to enter the price of that product. Use comprehension to calculate the total price. Note: assume that the user can only have 1 unit of each product.\n",
    "\n",
    "4. Modify the update_inventory function to remove the product from the inventory if its quantity becomes zero after fulfilling the customer orders. Use comprehension to filter out the products with a quantity of zero from the inventory.\n",
    "\n",
    "5. Print the total price of the customer order.\n",
    "\n",
    "Your code should produce output similar to the following:\n",
    "\n",
    "```python\n",
    "Enter the quantity of t-shirts available:  5\n",
    "Enter the quantity of mugs available:  4\n",
    "Enter the quantity of hats available:  3\n",
    "Enter the quantity of books available:  2\n",
    "Enter the quantity of keychains available:  1\n",
    "Enter the number of customer orders:  2\n",
    "Enter the name of a product that a customer wants to order:  hat\n",
    "Enter the name of a product that a customer wants to order:  keychain\n",
    "\n",
    "Order Statistics:\n",
    "Total Products Ordered: 2\n",
    "Percentage of Unique Products Ordered: 40.0\n",
    "\n",
    "Updated Inventory:\n",
    "t-shirt: 5\n",
    "mug: 4\n",
    "hat: 2\n",
    "book: 2\n",
    "Enter the price of keychain:  5\n",
    "Enter the price of hat:  10\n",
    "Total Price: 15.0\n",
    "\n",
    "```\n"
   ]
  },
  {
   "cell_type": "markdown",
   "id": "08179f95",
   "metadata": {},
   "source": [
    "#### Step 1\n",
    "\n",
    "Review your code from the previous exercise and identify areas where you can apply comprehension to simplify and streamline your code."
   ]
  },
  {
   "cell_type": "code",
   "execution_count": 3,
   "id": "379b5cc6",
   "metadata": {},
   "outputs": [],
   "source": [
    "# Original Code\n",
    "\n",
    "def o_initialize_inventory(products):\n",
    "    \"\"\" Asks how many of each product there is and saves each product and the corresponding amount to the inventory dictionary.\"\"\"\n",
    "    for item in products:\n",
    "        amount = int(input(f\"Please input the number of {item}s:\"))\n",
    "        inventory[item] = amount\n",
    "    \n",
    "    return print(\"Initial Inventory:\",inventory)\n"
   ]
  },
  {
   "cell_type": "code",
   "execution_count": 4,
   "id": "f20365d7",
   "metadata": {},
   "outputs": [],
   "source": [
    "\n",
    "# Comprehension Code\n",
    "\n",
    "### syntax: new_dict = {[key manipulation:[value manipulation] [for item in list]}\n",
    "\n",
    "def c_initialize_inventory(products):\n",
    "    \"\"\" Asks how many of each product there is and saves each product and the corresponding amount to the inventory dictionary.\"\"\"\n",
    "    inv = {item: int(input(f\"Please input the number of {item}s:\")) for item in products}\n",
    "    print(\"Initial Inventory:\",inv)\n",
    "    return inv\n",
    "    \n",
    "\n"
   ]
  },
  {
   "cell_type": "code",
   "execution_count": 5,
   "id": "0d8524d0",
   "metadata": {},
   "outputs": [],
   "source": [
    "customer_orders = set()\n",
    "\n",
    "def get_customer_orders():\n",
    "    \"\"\"Prompts user to input products they want to order, and stores them in customer_orders list.\"\"\"\n",
    "    item = str(input(\"What would you like to order? Please type t-shirt, mug, hat, book, or keychain. \"))\n",
    "    customer_orders.add(item)\n",
    "    reply = str(input(\"Okay. I've added that to your order. Would you like to order anything else? Please type yes or no. \"))\n",
    "    while reply.lower() == \"yes\":\n",
    "        item = str(input(\"What would you like to order? Please type t-shirt, mug, hat, book, or keychain. \"))\n",
    "        customer_orders.add(item)\n",
    "        reply = str(input(\"Okay. I've added that to your order. Would you like to order anything else? Please type yes or no. \"))\n",
    "    else:\n",
    "        return print(\"Thank you for placing an order with us!\",customer_orders)"
   ]
  },
  {
   "cell_type": "code",
   "execution_count": 6,
   "id": "b433f60c",
   "metadata": {},
   "outputs": [],
   "source": [
    "# Original Code\n",
    "\n",
    "def o_update_inventory(customer_orders,inventory):\n",
    "    \"\"\" Updates inventory to reflect items ordered by customer. \"\"\"\n",
    "    for product in customer_orders:\n",
    "        inventory[product] - 1"
   ]
  },
  {
   "cell_type": "code",
   "execution_count": 7,
   "id": "93ebd9dd",
   "metadata": {},
   "outputs": [],
   "source": [
    "# Comprehension Code\n",
    "\n",
    "### syntax: new_dict = {[key manipulation]:[value manipulation] [for item in list]}\n",
    "\n",
    "def c_update_inventory(order_list_or_set,inventory_dict):\n",
    "    \"\"\" Updates inventory to reflect items ordered by customer. \"\"\"\n",
    "    up_inv = {product: inventory_dict[product] - 1 if product in order_list_or_set else inventory_dict[product] for product in inventory_dict}\n",
    "    return up_inv\n"
   ]
  },
  {
   "cell_type": "code",
   "execution_count": 8,
   "id": "1bdd5b9c",
   "metadata": {},
   "outputs": [],
   "source": [
    "order_statistics = []\n",
    "\n",
    "def calculate_order_statistics(customer_orders,products):\n",
    "    \"\"\"Calculates what percentage of unique products available were ordered by customer.\"\"\"\n",
    "    global order_statistics           # This pulls the global list order_statistics into my function.      \n",
    "    order_statistics = [len(customer_orders), ((len(customer_orders)/len(products))*100)]\n",
    "    \n",
    "    return order_statistics"
   ]
  },
  {
   "cell_type": "code",
   "execution_count": 9,
   "id": "f67b0937",
   "metadata": {},
   "outputs": [],
   "source": [
    "def print_order_statistics(order_statistics):\n",
    "    print(\"Order Statistics:\")\n",
    "    print(f\"Total Products Ordered: {order_statistics[0]}\")\n",
    "    print(f\"Percentage of Total Products: {order_statistics[1]}\")"
   ]
  },
  {
   "cell_type": "code",
   "execution_count": 10,
   "id": "dec1b2b4",
   "metadata": {},
   "outputs": [],
   "source": [
    "# Original Code - The hint said to update this using comprehension, but it doesn't rely on a dictionary, so I didn't need to do that here. \n",
    "\n",
    "def print_updated_inventory(inventory):\n",
    "    print(\"Updated Inventory:\", inventory)"
   ]
  },
  {
   "cell_type": "markdown",
   "id": "026800c2",
   "metadata": {},
   "source": [
    "#### Run this cell to see that Step 1 worked. "
   ]
  },
  {
   "cell_type": "code",
   "execution_count": 13,
   "id": "ac6a605e",
   "metadata": {},
   "outputs": [
    {
     "name": "stdout",
     "output_type": "stream",
     "text": [
      "Initial Inventory: {'t-shirt': 21, 'mug': 32, 'hat': 43, 'book': 54, 'keychain': 65}\n",
      "Thank you for placing an order with us! {'mug', 't-shirt'}\n",
      "Order Statistics:\n",
      "Total Products Ordered: 2\n",
      "Percentage of Total Products: 40.0\n",
      "Updated Inventory: {'t-shirt': 20, 'mug': 31, 'hat': 43, 'book': 54, 'keychain': 65}\n"
     ]
    }
   ],
   "source": [
    "# Starter Lists, Dictionaries, and Sets\n",
    "\n",
    "product_list = ['t-shirt', 'mug', 'hat', 'book', 'keychain']\n",
    "inventory = {}\n",
    "customer_orders = set()\n",
    "\n",
    "# All functions (Comprehension functions indicated as c_function)\n",
    "\n",
    "inventory = c_initialize_inventory(product_list)\n",
    "get_customer_orders()\n",
    "up_inv = c_update_inventory(customer_orders,inventory)\n",
    "calculate_order_statistics(customer_orders,product_list)\n",
    "print_order_statistics(order_statistics)\n",
    "print_updated_inventory(up_inv)"
   ]
  },
  {
   "cell_type": "markdown",
   "id": "327dbd5a",
   "metadata": {},
   "source": [
    "#### Step 2\n",
    "\n",
    "Modify the function get_customer_orders so it prompts the user to enter the number of customer orders and gathers the product names using a loop and user input. Use comprehension."
   ]
  },
  {
   "cell_type": "code",
   "execution_count": null,
   "id": "0ffff86b",
   "metadata": {},
   "outputs": [],
   "source": [
    "# Original Code\n",
    "\n",
    "# def get_customer_orders():\n",
    "#     \"\"\"Prompts user to input products they want to order, and stores them in customer_orders list.\"\"\"\n",
    "#     item = str(input(\"What would you like to order? Please type t-shirt, mug, hat, book, or keychain. \"))\n",
    "#     customer_orders.add(item)\n",
    "#     reply = str(input(\"Okay. I've added that to your order. Would you like to order anything else? Please type yes or no. \"))\n",
    "#     while reply.lower() == \"yes\":\n",
    "#         item = str(input(\"What would you like to order? Please type t-shirt, mug, hat, book, or keychain. \"))\n",
    "#         customer_orders.add(item)\n",
    "#         reply = str(input(\"Okay. I've added that to your order. Would you like to order anything else? Please type yes or no. \"))\n",
    "#     else:\n",
    "#         return print(\"Thank you for placing an order with us!\",customer_orders)"
   ]
  },
  {
   "cell_type": "code",
   "execution_count": 14,
   "id": "a6f7f430",
   "metadata": {},
   "outputs": [],
   "source": [
    "# Comprehension Code meeting new requirements\n",
    "\n",
    "### syntax: new_dict = {[key manipulation]:[value manipulation] [for item in list]}\n",
    "\n",
    "def c_get_customer_orders():\n",
    "    \"Prompts user to input products they want to order, displays items ordered, and stores them in customer_orders list.\"\n",
    "    good_cust_resp = False    ### sets condition for while loop, ai recommended\n",
    "    while good_cust_resp == False:\n",
    "        try:\n",
    "            cust_resp = int(input(\"How many products would you like to order today? Please enter a number between 1 and 5.\\n\"))\n",
    "            if cust_resp > 0 and cust_resp <= 5:    \n",
    "                good_cust_resp = True    ### changes condition that will stop the while loop, ai recommended\n",
    "            else:\n",
    "                print(\"Sorry. You must order a number of products between 1 and 5. Please try again.\")\n",
    "        except ValueError:\n",
    "            print(\"Sorry, I didn't understand that. Please enter a number between 1 and 5.\")\n",
    "    \n",
    "    c_o_num = cust_resp\n",
    "    \n",
    "    c_o_add = {str(input(\"What would you like to order? Please type t-shirt, mug, hat, book, or keychain.\\n\".lower())): #.lower() ai recommended\n",
    "               int(input(\"And how many would you like to order?\")) for i in range(0,c_o_num)\n",
    "    }\n",
    "    return c_o_add\n"
   ]
  },
  {
   "cell_type": "code",
   "execution_count": 15,
   "id": "bd769bcb",
   "metadata": {},
   "outputs": [
    {
     "name": "stdout",
     "output_type": "stream",
     "text": [
      "Sorry, I didn't understand that. Please enter a number between 1 and 5.\n",
      "Sorry, I didn't understand that. Please enter a number between 1 and 5.\n"
     ]
    }
   ],
   "source": [
    "customer_orders = c_get_customer_orders()"
   ]
  },
  {
   "cell_type": "code",
   "execution_count": 16,
   "id": "a3d0d7be",
   "metadata": {},
   "outputs": [
    {
     "data": {
      "text/plain": [
       "{'t-shirt': 13, 'mug': 15}"
      ]
     },
     "execution_count": 16,
     "metadata": {},
     "output_type": "execute_result"
    }
   ],
   "source": [
    "customer_orders"
   ]
  },
  {
   "cell_type": "markdown",
   "id": "d25d4f2b",
   "metadata": {},
   "source": [
    "#### Step 3\n",
    "\n",
    "Add a new function to calculate the total price of the customer order. For each product in customer_orders, prompt the user to enter the price of that product. Use comprehension to calculate the total price. Note: assume that the user can only have 1 unit of each product."
   ]
  },
  {
   "cell_type": "code",
   "execution_count": 48,
   "id": "0bb7b267",
   "metadata": {},
   "outputs": [],
   "source": [
    "### I specifically and intentionally ignored the direction to assume the customer could only order 1 item. \n",
    "\n",
    "def get_cust_prices(order_dict):\n",
    "    cust_inp_prices = {item: float(input(f\"This may sound weird, but how much would you like to pay for each {item}?\")) for item in order_dict}\n",
    "    cust_item_prices = {item: quantity * cust_inp_prices[item] for item, quantity in order_dict.items() if item in cust_inp_prices}\n",
    "    cust_tot_price = sum(quantity * cust_inp_prices[item] for item, quantity in order_dict.items() if item in cust_inp_prices)\n",
    "    for key,value in cust_item_prices.items():\n",
    "        print(f\"Total cost of {key}s is: ${value}.\")\n",
    "    print(f\"Total price of customer order is: ${cust_tot_price}. \\nThank you for ordering with us!\")\n",
    "    return cust_tot_price"
   ]
  },
  {
   "cell_type": "code",
   "execution_count": 49,
   "id": "fe856e49",
   "metadata": {},
   "outputs": [
    {
     "name": "stdout",
     "output_type": "stream",
     "text": [
      "Total cost of t-shirts is: $42.25.\n",
      "Total cost of mugs is: $59.85.\n",
      "Total price of customer order is: $102.1. \n",
      "Thank you for ordering with us!\n"
     ]
    }
   ],
   "source": [
    "total_price = get_cust_prices(customer_orders)"
   ]
  },
  {
   "cell_type": "markdown",
   "id": "7e150118",
   "metadata": {},
   "source": [
    "#### Step 4\n",
    "\n",
    "Modify the update_inventory function to remove the product from the inventory if its quantity becomes zero after fulfilling the customer orders. Use comprehension to filter out the products with a quantity of zero from the inventory."
   ]
  },
  {
   "cell_type": "code",
   "execution_count": null,
   "id": "08eaeee0",
   "metadata": {},
   "outputs": [],
   "source": [
    "### Original code from above\n",
    "\n",
    "def c_update_inventory(order_list_or_set,inventory_dict):\n",
    "    \"\"\" Updates inventory to reflect items ordered by customer. \"\"\"\n",
    "    up_inv = {product: inventory_dict[product] - 1 if product in order_list_or_set else inventory_dict[product] for product in inventory_dict}\n",
    "    return up_inv"
   ]
  },
  {
   "cell_type": "code",
   "execution_count": 39,
   "id": "c46b9f40",
   "metadata": {},
   "outputs": [],
   "source": [
    "### New code w/ specified update\n",
    "\n",
    "### Got a lot of tutoring from ai on this one to make sure I understood exactly how to get the dictionaries to interact properly and how to use comprehension as a filter. \n",
    "\n",
    "def new_c_update_inventory(order_list_or_set,inventory_dict):\n",
    "    \"\"\" \n",
    "    Updates inventory to reflect items ordered by customer by:\n",
    "    1.) Updating the quantity of each product on hand by subtracting the number of each item ordered by a customer from the inventory. \n",
    "    2.) Filtering out of the updated inventory (up_inv) dictionary any dictionary items with an amount less than or equal to 0. \n",
    "     \"\"\"\n",
    "    up_inv = {product: inventory_dict[product] - order_list_or_set[product] if product in order_list_or_set else inventory_dict[product] for product,amount in inventory_dict.items()}\n",
    "    up_inv = {product: amount for product,amount in up_inv.items() if amount > 0} \n",
    "    return up_inv"
   ]
  },
  {
   "cell_type": "code",
   "execution_count": 40,
   "id": "b0f839bf",
   "metadata": {},
   "outputs": [
    {
     "data": {
      "text/plain": [
       "{'t-shirt': 8, 'mug': 17, 'hat': 43, 'book': 54, 'keychain': 65}"
      ]
     },
     "execution_count": 40,
     "metadata": {},
     "output_type": "execute_result"
    }
   ],
   "source": [
    "new_c_update_inventory(customer_orders, inventory)"
   ]
  },
  {
   "cell_type": "markdown",
   "id": "84ed366b",
   "metadata": {},
   "source": [
    "#### Step 5\n",
    "\n",
    "Print the total price of the customer order."
   ]
  },
  {
   "cell_type": "code",
   "execution_count": 52,
   "id": "5396b3ac",
   "metadata": {},
   "outputs": [
    {
     "name": "stdout",
     "output_type": "stream",
     "text": [
      "102.1\n"
     ]
    }
   ],
   "source": [
    "### See creation of total_price variable above. \n",
    "\n",
    "print(total_price)"
   ]
  },
  {
   "cell_type": "code",
   "execution_count": null,
   "id": "7748067b",
   "metadata": {},
   "outputs": [],
   "source": []
  }
 ],
 "metadata": {
  "kernelspec": {
   "display_name": "Python 3 (ipykernel)",
   "language": "python",
   "name": "python3"
  },
  "language_info": {
   "codemirror_mode": {
    "name": "ipython",
    "version": 3
   },
   "file_extension": ".py",
   "mimetype": "text/x-python",
   "name": "python",
   "nbconvert_exporter": "python",
   "pygments_lexer": "ipython3",
   "version": "3.11.7"
  }
 },
 "nbformat": 4,
 "nbformat_minor": 5
}
